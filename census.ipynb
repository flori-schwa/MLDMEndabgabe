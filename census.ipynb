{
 "cells": [
  {
   "cell_type": "code",
   "execution_count": 1,
   "metadata": {},
   "outputs": [],
   "source": [
    "from typing import Callable, Any\n",
    "\n",
    "import arff_parser as ap"
   ]
  },
  {
   "cell_type": "code",
   "execution_count": 2,
   "metadata": {
    "pycharm": {
     "name": "#%%\n"
    }
   },
   "outputs": [
    {
     "data": {
      "text/html": [
       "<div>\n",
       "<style scoped>\n",
       "    .dataframe tbody tr th:only-of-type {\n",
       "        vertical-align: middle;\n",
       "    }\n",
       "\n",
       "    .dataframe tbody tr th {\n",
       "        vertical-align: top;\n",
       "    }\n",
       "\n",
       "    .dataframe thead th {\n",
       "        text-align: right;\n",
       "    }\n",
       "</style>\n",
       "<table border=\"1\" class=\"dataframe\">\n",
       "  <thead>\n",
       "    <tr style=\"text-align: right;\">\n",
       "      <th></th>\n",
       "      <th>age</th>\n",
       "      <th>workclass</th>\n",
       "      <th>fnlwgt</th>\n",
       "      <th>education</th>\n",
       "      <th>education-num</th>\n",
       "      <th>marital-status</th>\n",
       "      <th>occupation</th>\n",
       "      <th>relationship</th>\n",
       "      <th>race</th>\n",
       "      <th>sex</th>\n",
       "      <th>capital-gain</th>\n",
       "      <th>capital-loss</th>\n",
       "      <th>hours-per-week</th>\n",
       "      <th>native-country</th>\n",
       "      <th>class</th>\n",
       "    </tr>\n",
       "  </thead>\n",
       "  <tbody>\n",
       "    <tr>\n",
       "      <th>0</th>\n",
       "      <td>25.0</td>\n",
       "      <td>Private</td>\n",
       "      <td>226802.0</td>\n",
       "      <td>11th</td>\n",
       "      <td>7.0</td>\n",
       "      <td>Never-married</td>\n",
       "      <td>Machine-op-inspct</td>\n",
       "      <td>Own-child</td>\n",
       "      <td>Black</td>\n",
       "      <td>Male</td>\n",
       "      <td>0.0</td>\n",
       "      <td>0.0</td>\n",
       "      <td>40.0</td>\n",
       "      <td>United-States</td>\n",
       "      <td>&lt;=50K</td>\n",
       "    </tr>\n",
       "    <tr>\n",
       "      <th>1</th>\n",
       "      <td>38.0</td>\n",
       "      <td>Private</td>\n",
       "      <td>89814.0</td>\n",
       "      <td>HS-grad</td>\n",
       "      <td>9.0</td>\n",
       "      <td>Married-civ-spouse</td>\n",
       "      <td>Farming-fishing</td>\n",
       "      <td>Husband</td>\n",
       "      <td>White</td>\n",
       "      <td>Male</td>\n",
       "      <td>0.0</td>\n",
       "      <td>0.0</td>\n",
       "      <td>50.0</td>\n",
       "      <td>United-States</td>\n",
       "      <td>&lt;=50K</td>\n",
       "    </tr>\n",
       "    <tr>\n",
       "      <th>2</th>\n",
       "      <td>28.0</td>\n",
       "      <td>Local-gov</td>\n",
       "      <td>336951.0</td>\n",
       "      <td>Assoc-acdm</td>\n",
       "      <td>12.0</td>\n",
       "      <td>Married-civ-spouse</td>\n",
       "      <td>Protective-serv</td>\n",
       "      <td>Husband</td>\n",
       "      <td>White</td>\n",
       "      <td>Male</td>\n",
       "      <td>0.0</td>\n",
       "      <td>0.0</td>\n",
       "      <td>40.0</td>\n",
       "      <td>United-States</td>\n",
       "      <td>&gt;50K</td>\n",
       "    </tr>\n",
       "    <tr>\n",
       "      <th>3</th>\n",
       "      <td>44.0</td>\n",
       "      <td>Private</td>\n",
       "      <td>160323.0</td>\n",
       "      <td>Some-college</td>\n",
       "      <td>10.0</td>\n",
       "      <td>Married-civ-spouse</td>\n",
       "      <td>Machine-op-inspct</td>\n",
       "      <td>Husband</td>\n",
       "      <td>Black</td>\n",
       "      <td>Male</td>\n",
       "      <td>7688.0</td>\n",
       "      <td>0.0</td>\n",
       "      <td>40.0</td>\n",
       "      <td>United-States</td>\n",
       "      <td>&gt;50K</td>\n",
       "    </tr>\n",
       "    <tr>\n",
       "      <th>4</th>\n",
       "      <td>18.0</td>\n",
       "      <td>None</td>\n",
       "      <td>103497.0</td>\n",
       "      <td>Some-college</td>\n",
       "      <td>10.0</td>\n",
       "      <td>Never-married</td>\n",
       "      <td>None</td>\n",
       "      <td>Own-child</td>\n",
       "      <td>White</td>\n",
       "      <td>Female</td>\n",
       "      <td>0.0</td>\n",
       "      <td>0.0</td>\n",
       "      <td>30.0</td>\n",
       "      <td>United-States</td>\n",
       "      <td>&lt;=50K</td>\n",
       "    </tr>\n",
       "  </tbody>\n",
       "</table>\n",
       "</div>"
      ],
      "text/plain": [
       "    age  workclass    fnlwgt     education  education-num      marital-status  \\\n",
       "0  25.0    Private  226802.0          11th            7.0       Never-married   \n",
       "1  38.0    Private   89814.0       HS-grad            9.0  Married-civ-spouse   \n",
       "2  28.0  Local-gov  336951.0    Assoc-acdm           12.0  Married-civ-spouse   \n",
       "3  44.0    Private  160323.0  Some-college           10.0  Married-civ-spouse   \n",
       "4  18.0       None  103497.0  Some-college           10.0       Never-married   \n",
       "\n",
       "          occupation relationship   race     sex  capital-gain  capital-loss  \\\n",
       "0  Machine-op-inspct    Own-child  Black    Male           0.0           0.0   \n",
       "1    Farming-fishing      Husband  White    Male           0.0           0.0   \n",
       "2    Protective-serv      Husband  White    Male           0.0           0.0   \n",
       "3  Machine-op-inspct      Husband  Black    Male        7688.0           0.0   \n",
       "4               None    Own-child  White  Female           0.0           0.0   \n",
       "\n",
       "   hours-per-week native-country  class  \n",
       "0            40.0  United-States  <=50K  \n",
       "1            50.0  United-States  <=50K  \n",
       "2            40.0  United-States   >50K  \n",
       "3            40.0  United-States   >50K  \n",
       "4            30.0  United-States  <=50K  "
      ]
     },
     "execution_count": 2,
     "metadata": {},
     "output_type": "execute_result"
    }
   ],
   "source": [
    "census = ap.parse_arff_file(\"adult_train.arff\")\n",
    "\n",
    "census.head()"
   ]
  },
  {
   "cell_type": "code",
   "execution_count": 3,
   "metadata": {
    "pycharm": {
     "name": "#%%\n"
    }
   },
   "outputs": [],
   "source": [
    "def sum_attr_pred(func: Callable[[Any], bool], attr: str) -> int:\n",
    "    return sum(func(x) for x in census[attr])"
   ]
  },
  {
   "cell_type": "code",
   "execution_count": 4,
   "metadata": {
    "pycharm": {
     "name": "#%%\n"
    }
   },
   "outputs": [
    {
     "name": "stdout",
     "output_type": "stream",
     "text": [
      "# Of Instances with age = '?': 0\n",
      "# Of Instances with workclass = '?': 2503\n",
      "# Of Instances with fnlwgt = '?': 0\n",
      "# Of Instances with education = '?': 0\n",
      "# Of Instances with education-num = '?': 0\n",
      "# Of Instances with marital-status = '?': 0\n",
      "# Of Instances with occupation = '?': 2512\n",
      "# Of Instances with relationship = '?': 0\n",
      "# Of Instances with race = '?': 0\n",
      "# Of Instances with sex = '?': 0\n",
      "# Of Instances with capital-gain = '?': 0\n",
      "# Of Instances with capital-loss = '?': 0\n",
      "# Of Instances with hours-per-week = '?': 0\n",
      "# Of Instances with native-country = '?': 766\n",
      "# Of Instances with class = '?': 0\n"
     ]
    }
   ],
   "source": [
    "for attr in census.columns:\n",
    "    print(f\"# Of Instances with {attr} = '?': {sum_attr_pred(lambda x: x is None, attr)}\")"
   ]
  },
  {
   "cell_type": "code",
   "execution_count": 5,
   "metadata": {
    "pycharm": {
     "name": "#%%\n"
    }
   },
   "outputs": [
    {
     "name": "stdout",
     "output_type": "stream",
     "text": [
      "3236 of total 43958 rows contain atleast one unknown (?) Attribute: 7.361572410027755%\n"
     ]
    }
   ],
   "source": [
    "cnt = 0\n",
    "total_rows = 0\n",
    "\n",
    "for idx, row in census.iterrows():\n",
    "    if any(x is None for x in row):\n",
    "        cnt += 1\n",
    "    total_rows += 1\n",
    "\n",
    "print(f\"{cnt} of total {total_rows} rows contain atleast one unknown (?) Attribute: {100 * (cnt / total_rows)}%\")"
   ]
  },
  {
   "cell_type": "code",
   "execution_count": 6,
   "metadata": {
    "pycharm": {
     "name": "#%%\n"
    }
   },
   "outputs": [],
   "source": [
    "def print_csv_line(file, data):\n",
    "    file.write(\", \".join(map(lambda x: '?' if x is None else str(x), data)))\n",
    "    file.write('\\n')\n",
    "\n",
    "with open(\"processed.csv\", \"w+\") as f:\n",
    "    for idx, row in census.iterrows():\n",
    "        print_csv_line(f, [\n",
    "            row['age'],\n",
    "            row['workclass'],\n",
    "            row['education-num'],\n",
    "            1 if row['marital-status'] in ['Married-civ-spouse', 'Married-spouse-absent', 'Married-AF-spouse'] else 0,\n",
    "            row['occupation'],\n",
    "            row['relationship'],\n",
    "            row['race'],\n",
    "            row['sex'],\n",
    "            row['capital-gain'],\n",
    "            row['capital-loss'],\n",
    "            row['hours-per-week'],\n",
    "            1 if row['native-country'] == 'United-States' else 0,\n",
    "            row['class']\n",
    "        ])"
   ]
  },
  {
   "cell_type": "code",
   "execution_count": 7,
   "metadata": {
    "pycharm": {
     "name": "#%%\n"
    }
   },
   "outputs": [
    {
     "name": "stdout",
     "output_type": "stream",
     "text": [
      "24.413597446679162% of US. Citizens earn more than 50k / year\n",
      "19.754464285714285% of foreign Citizens earn more than 50k / year\n"
     ]
    }
   ],
   "source": [
    "usa_gt_50k = 0\n",
    "usa_lt_50k = 0\n",
    "for_gt_50k = 0\n",
    "for_lt_50k = 0\n",
    "\n",
    "for idx, row in census.iterrows():\n",
    "    if row['native-country'] == 'United-States':\n",
    "        if row['class'] == '>50K':\n",
    "            usa_gt_50k += 1\n",
    "        else:\n",
    "            usa_lt_50k += 1\n",
    "    else:\n",
    "        if row['class'] == '>50K':\n",
    "            for_gt_50k += 1\n",
    "        else:\n",
    "            for_lt_50k += 1\n",
    "\n",
    "print(f\"{100 * (usa_gt_50k / (usa_gt_50k + usa_lt_50k))}% of US. Citizens earn more than 50k / year\")\n",
    "print(f\"{100 * (for_gt_50k / (for_gt_50k + for_lt_50k))}% of foreign Citizens earn more than 50k / year\")"
   ]
  },
  {
   "cell_type": "code",
   "execution_count": 15,
   "metadata": {
    "pycharm": {
     "name": "#%%\n"
    }
   },
   "outputs": [
    {
     "name": "stdout",
     "output_type": "stream",
     "text": [
      "44.75119482710149% of husbands earn more than 50k / year\n",
      "47.355769230769226% of wifes earn more than 50k / year\n",
      "44.567374479063304% of married civilians earn more than 50k / year\n",
      "40.625% of married armed forces earn more than 50k / year\n",
      "46.05348202893536% of the chosen relations earn more than 50k / year\n",
      "42.59618723953165% of the chosen marital-states earn more than 50k / year\n",
      "29392 Anz. Männer\n",
      "17784 Anz. Ehemänner\n",
      "60.50626020685901 % verheirateter Männer\n",
      "968 Anz. unverheirateter Männer > 50K Einkommen\n",
      "14566 Anz. Frauen\n",
      "2079 Anz. Ehefrauen\n",
      "14.272964437731703 % verheirateter Frauen\n",
      "612 Anz. unverheirateter Frauen > 50K Einkommen \n"
     ]
    }
   ],
   "source": [
    "rel_husband_gt_50k = 0\n",
    "rel_husband_lt_50k = 0\n",
    "rel_sum1 = 0\n",
    "rel_wife_gt_50k = 0\n",
    "rel_wife_lt_50k = 0\n",
    "rel_sum2 = 0\n",
    "\n",
    "ms_married_civ_gt_50k = 0\n",
    "ms_married_civ_lt_50k = 0\n",
    "ms_sum1 = 0\n",
    "ms_married_af_gt_50k = 0\n",
    "ms_married_af_lt_50k = 0\n",
    "ms_sum2 = 0\n",
    "\n",
    "num_husbands = 0\n",
    "num_wifes = 0\n",
    "num_men = 0\n",
    "num_women = 0\n",
    "\n",
    "num_unmarried_w_gt_50k = 0\n",
    "num_unmarried_m_gt_50k = 0\n",
    "\n",
    "for idx, row in census.iterrows():\n",
    "    if row['relationship'] == 'Husband':\n",
    "        if row['class'] == '>50K':\n",
    "            rel_husband_gt_50k += 1\n",
    "        else:\n",
    "            rel_husband_lt_50k += 1\n",
    "    elif row['relationship'] == 'Wife':\n",
    "        if row['class'] == '>50K':\n",
    "            rel_wife_gt_50k += 1\n",
    "        else:\n",
    "            rel_wife_lt_50k += 1\n",
    "    if row['marital-status'] == 'Married-civ-spouse':\n",
    "            if row['class'] == '>50K':\n",
    "                ms_married_civ_gt_50k += 1\n",
    "            else:\n",
    "                ms_married_civ_lt_50k += 1\n",
    "    elif row['marital-status'] == 'Married-AF-spouse':\n",
    "                if row['class'] == '>50K':\n",
    "                    ms_married_af_gt_50k += 1\n",
    "                else:\n",
    "                    ms_married_af_lt_50k += 1\n",
    "    if row['sex'] == 'Male':\n",
    "        num_men += 1\n",
    "        if row['relationship'] == 'Husband':\n",
    "            num_husbands += 1\n",
    "        elif row['class'] == '>50K': \n",
    "            num_unmarried_m_gt_50k += 1\n",
    "    else:\n",
    "        num_women += 1\n",
    "        if row['relationship'] == 'Wife':\n",
    "            num_wifes += 1\n",
    "        elif row['class'] == '>50K': \n",
    "            num_unmarried_w_gt_50k += 1\n",
    "        \n",
    "rel_sum1 = 100 * (rel_husband_gt_50k / (rel_husband_gt_50k + rel_husband_lt_50k))\n",
    "print(f\"{rel_sum1}% of husbands earn more than 50k / year\")\n",
    "rel_sum2 = 100 * (rel_wife_gt_50k / (rel_wife_gt_50k + rel_wife_lt_50k))\n",
    "print(f\"{rel_sum2}% of wifes earn more than 50k / year\")\n",
    "ms_sum1 = 100 * (ms_married_civ_gt_50k / (ms_married_civ_gt_50k + ms_married_civ_lt_50k))\n",
    "print(f\"{ms_sum1}% of married civilians earn more than 50k / year\")\n",
    "ms_sum2 = 100 * (ms_married_af_gt_50k / (ms_married_af_gt_50k + ms_married_af_lt_50k))\n",
    "print(f\"{ms_sum2}% of married armed forces earn more than 50k / year\")\n",
    "\n",
    "print(f\"{(rel_sum1 + rel_sum2) / 2}% of the chosen relations earn more than 50k / year\")\n",
    "print(f\"{(ms_sum1 + ms_sum2) / 2}% of the chosen marital-states earn more than 50k / year\")\n",
    "\n",
    "print(f\"{num_men} Anz. Männer\")\n",
    "print(f\"{num_husbands} Anz. Ehemänner\")\n",
    "print(f\"{100 * (num_husbands / num_men)}% aller Männer sind verheiratet\")\n",
    "print(f\"{num_unmarried_m_gt_50k} Anz. unverheirateter Männer > 50K Einkommen\")\n",
    "print(f\"{num_women} Anz. Frauen\")\n",
    "print(f\"{num_wifes} Anz. Ehefrauen\")\n",
    "print(f\"{100 * (num_wifes/ num_women)}% aller Frauen sind verheiratet\")\n",
    "print(f\"{num_unmarried_w_gt_50k} Anz. unverheirateter Frauen > 50K Einkommen \")\n"
   ]
  },
  {
   "cell_type": "code",
   "execution_count": null,
   "metadata": {
    "pycharm": {
     "name": "#%%\n"
    }
   },
   "outputs": [],
   "source": [
    "rel_unmarried_gt_50k = 0\n",
    "rel_unmarried_lt_50k = 0\n",
    "\n",
    "ms_never_married_gt_50k = 0\n",
    "ms_never_married_lt_50k = 0\n",
    "ms_sum_1 = 0\n",
    "ms_divorced_gt_50k = 0\n",
    "ms_divorced_lt_50k = 0\n",
    "ms_sum_2 = 0\n",
    "ms_widowed_gt_50k = 0\n",
    "ms_widowed_lt_50k = 0\n",
    "ms_sum_3 = 0\n",
    "\n",
    "for idx, row in census.iterrows():\n",
    "    if row['relationship'] == 'Unmarried':\n",
    "        if row['class'] == '>50K':\n",
    "            rel_unmarried_gt_50k += 1\n",
    "        else:\n",
    "            rel_unmarried_lt_50k += 1\n",
    "    elif row['material-status'] == 'Never-married':\n",
    "        if row['class'] == '>50K':\n",
    "            ms_never_married_gt_50k += 1\n",
    "        else:\n",
    "            ms_never_married_lt_50k += 1\n",
    "    elif row['marital-status'] == 'Divorced':\n",
    "            if row['class'] == '>50K':\n",
    "                ms_divorced_gt_50k += 1\n",
    "            else:\n",
    "                ms_divorced_lt_50k += 1\n",
    "    elif row['marital-status'] == 'Widowed':\n",
    "                if row['class'] == '>50K':\n",
    "                    ms_widowed_gt_50k += 1\n",
    "                else:\n",
    "                    ms_widowed_lt_50k += 1\n",
    "\n",
    "print(f\"{100 * (rel_unmarried_gt_50k / (rel_unmarried_gt_50k + rel_unmarried_lt_50k))}% of unmarried earn more than 50k / year\")\n",
    "ms_sum_1 = 100 * (ms_never_married_gt_50k / (ms_never_married_gt_50k + ms_never_married_lt_50k))\n",
    "print(f\"{ms_sum_1}% of never married earn more than 50k / year\")\n",
    "ms_sum_2 = 100 * (ms_divorced_gt_50k / (ms_divorced_gt_50k + ms_divorced_lt_50k))\n",
    "print(f\"{ms_sum_2}% of divorced earn more than 50k / year\")\n",
    "ms_sum_3 = 100 * (ms_widowed_gt_50k / (ms_widowed_gt_50k + ms_widowed_lt_50k))\n",
    "print(f\"{ms_sum_3}% of widowed earn more than 50k / year\")\n",
    "\n",
    "print(f\"{(ms_sum_1 + ms_sum_2 + ms_sum_3) / 3}% of the unmarried marital-states earn more than 50k / year\")\n"
   ]
  }
 ],
 "metadata": {
  "kernelspec": {
   "display_name": "Python 3",
   "language": "python",
   "name": "python3"
  },
  "language_info": {
   "codemirror_mode": {
    "name": "ipython",
    "version": 3
   },
   "file_extension": ".py",
   "mimetype": "text/x-python",
   "name": "python",
   "nbconvert_exporter": "python",
   "pygments_lexer": "ipython3",
   "version": "3.9.1"
  }
 },
 "nbformat": 4,
 "nbformat_minor": 1
}