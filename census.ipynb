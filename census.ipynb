{
 "cells": [
  {
   "cell_type": "code",
   "execution_count": 8,
   "metadata": {
    "collapsed": true
   },
   "outputs": [
    {
     "ename": "ModuleNotFoundError",
     "evalue": "No module named 'pandas'",
     "output_type": "error",
     "traceback": [
      "\u001B[1;31m---------------------------------------------------------------------------\u001B[0m",
      "\u001B[1;31mModuleNotFoundError\u001B[0m                       Traceback (most recent call last)",
      "\u001B[1;32m<ipython-input-8-e85822465457>\u001B[0m in \u001B[0;36m<module>\u001B[1;34m\u001B[0m\n\u001B[0;32m      1\u001B[0m \u001B[1;32mfrom\u001B[0m \u001B[0mtyping\u001B[0m \u001B[1;32mimport\u001B[0m \u001B[0mCallable\u001B[0m\u001B[1;33m,\u001B[0m \u001B[0mAny\u001B[0m\u001B[1;33m\u001B[0m\u001B[1;33m\u001B[0m\u001B[0m\n\u001B[0;32m      2\u001B[0m \u001B[1;33m\u001B[0m\u001B[0m\n\u001B[1;32m----> 3\u001B[1;33m \u001B[1;32mimport\u001B[0m \u001B[0marff_parser\u001B[0m \u001B[1;32mas\u001B[0m \u001B[0map\u001B[0m\u001B[1;33m\u001B[0m\u001B[1;33m\u001B[0m\u001B[0m\n\u001B[0m\u001B[0;32m      4\u001B[0m \u001B[1;33m\u001B[0m\u001B[0m\n",
      "\u001B[1;32m~\\Documents\\MLDMEndabgabe\\arff_parser.py\u001B[0m in \u001B[0;36m<module>\u001B[1;34m\u001B[0m\n\u001B[0;32m      3\u001B[0m \u001B[1;32mfrom\u001B[0m \u001B[0mtyping\u001B[0m \u001B[1;32mimport\u001B[0m \u001B[0mList\u001B[0m\u001B[1;33m,\u001B[0m \u001B[0mTypeVar\u001B[0m\u001B[1;33m,\u001B[0m \u001B[0mGeneric\u001B[0m\u001B[1;33m\u001B[0m\u001B[1;33m\u001B[0m\u001B[0m\n\u001B[0;32m      4\u001B[0m \u001B[1;33m\u001B[0m\u001B[0m\n\u001B[1;32m----> 5\u001B[1;33m \u001B[1;32mfrom\u001B[0m \u001B[0mpandas\u001B[0m \u001B[1;32mimport\u001B[0m \u001B[0mDataFrame\u001B[0m\u001B[1;33m\u001B[0m\u001B[1;33m\u001B[0m\u001B[0m\n\u001B[0m\u001B[0;32m      6\u001B[0m \u001B[1;33m\u001B[0m\u001B[0m\n\u001B[0;32m      7\u001B[0m \u001B[1;31m# region Attribute Class Definitions\u001B[0m\u001B[1;33m\u001B[0m\u001B[1;33m\u001B[0m\u001B[1;33m\u001B[0m\u001B[0m\n",
      "\u001B[1;31mModuleNotFoundError\u001B[0m: No module named 'pandas'"
     ]
    }
   ],
   "source": [
    "from typing import Callable, Any\n",
    "\n",
    "import arff_parser as ap"
   ]
  },
  {
   "cell_type": "code",
   "execution_count": null,
   "metadata": {
    "pycharm": {
     "name": "#%%\n"
    }
   },
   "outputs": [],
   "source": [
    "census = ap.parse_arff_file(\"adult_train.arff\")\n",
    "\n",
    "census.head()"
   ]
  },
  {
   "cell_type": "code",
   "execution_count": null,
   "metadata": {
    "pycharm": {
     "name": "#%%\n"
    }
   },
   "outputs": [],
   "source": [
    "def sum_attr_pred(func: Callable[[Any], bool], attr: str) -> int:\n",
    "    return sum(func(x) for x in census[attr])"
   ]
  },
  {
   "cell_type": "code",
   "execution_count": null,
   "metadata": {
    "pycharm": {
     "name": "#%%\n"
    }
   },
   "outputs": [],
   "source": [
    "for attr in census.columns:\n",
    "    print(f\"# Of Instances with {attr} = '?': {sum_attr_pred(lambda x: x is None, attr)}\")"
   ]
  },
  {
   "cell_type": "code",
   "execution_count": null,
   "metadata": {
    "pycharm": {
     "name": "#%%\n"
    }
   },
   "outputs": [],
   "source": [
    "cnt = 0\n",
    "total_rows = 0\n",
    "\n",
    "for idx, row in census.iterrows():\n",
    "    if any(x is None for x in row):\n",
    "        cnt += 1\n",
    "    total_rows += 1\n",
    "\n",
    "print(f\"{cnt} of total {total_rows} rows contain atleast one unknown (?) Attribute: {100 * (cnt / total_rows)}%\")"
   ]
  },
  {
   "cell_type": "code",
   "execution_count": null,
   "metadata": {
    "pycharm": {
     "name": "#%%\n"
    }
   },
   "outputs": [],
   "source": [
    "def print_csv_line(file, data):\n",
    "    file.write(\", \".join(map(lambda x: '?' if x is None else str(x), data)))\n",
    "    file.write('\\n')\n",
    "\n",
    "with open(\"processed.csv\", \"w+\") as f:\n",
    "    for idx, row in census.iterrows():\n",
    "        print_csv_line(f, [\n",
    "            row['age'],\n",
    "            row['workclass'],\n",
    "            row['education-num'],\n",
    "            1 if row['marital-status'] in ['Married-civ-spouse', 'Married-spouse-absent', 'Married-AF-spouse'] else 0,\n",
    "            row['occupation'],\n",
    "            row['relationship'],\n",
    "            row['race'],\n",
    "            row['sex'],\n",
    "            row['capital-gain'],\n",
    "            row['capital-loss'],\n",
    "            row['hours-per-week'],\n",
    "            1 if row['native-country'] == 'United-States' else 0,\n",
    "            row['class']\n",
    "        ])"
   ]
  },
  {
   "cell_type": "code",
   "execution_count": null,
   "metadata": {
    "pycharm": {
     "name": "#%%\n"
    }
   },
   "outputs": [],
   "source": [
    "usa_gt_50k = 0\n",
    "usa_lt_50k = 0\n",
    "for_gt_50k = 0\n",
    "for_lt_50k = 0\n",
    "\n",
    "for idx, row in census.iterrows():\n",
    "    if row['native-country'] == 'United-States':\n",
    "        if row['class'] == '>50K':\n",
    "            usa_gt_50k += 1\n",
    "        else:\n",
    "            usa_lt_50k += 1\n",
    "    else:\n",
    "        if row['class'] == '>50K':\n",
    "            for_gt_50k += 1\n",
    "        else:\n",
    "            for_lt_50k += 1\n",
    "\n",
    "print(f\"{100 * (usa_gt_50k / (usa_gt_50k + usa_lt_50k))}% of US. Citizens earn more than 50k / year\")\n",
    "print(f\"{100 * (for_gt_50k / (for_gt_50k + for_lt_50k))}% of foreign Citizens earn more than 50k / year\")"
   ]
  },
  {
   "cell_type": "code",
   "execution_count": null,
   "outputs": [],
   "source": [
    "rel_husband_gt_50k = 0\n",
    "rel_husband_lt_50k = 0\n",
    "rel_sum1 = 0\n",
    "rel_wife_gt_50k = 0\n",
    "rel_wife_lt_50k = 0\n",
    "rel_sum2 = 0\n",
    "\n",
    "ms_married_civ_gt_50k = 0\n",
    "ms_married_civ_lt_50k = 0\n",
    "ms_sum1 = 0\n",
    "ms_married_af_gt_50k = 0\n",
    "ms_married_af_lt_50k = 0\n",
    "ms_sum2 = 0\n",
    "\n",
    "for idx, row in census.iterrows():\n",
    "    if row['relationship'] == 'Husband':\n",
    "        if row['class'] == '>50K':\n",
    "            rel_husband_gt_50k += 1\n",
    "        else:\n",
    "            rel_husband_lt_50k += 1\n",
    "    elif row['relationship'] == 'Wife':\n",
    "        if row['class'] == '>50K':\n",
    "            rel_wife_gt_50k += 1\n",
    "        else:\n",
    "            rel_wife_lt_50k += 1\n",
    "    elif row['material-status'] == 'Married-civ-spouse':\n",
    "            if row['class'] == '>50K':\n",
    "                ms_married_civ_gt_50k += 1\n",
    "            else:\n",
    "                ms_married_civ_lt_50k += 1\n",
    "    elif row['material-status'] == 'Married-AF-spouse':\n",
    "                if row['class'] == '>50K':\n",
    "                    ms_married_af_gt_50k += 1\n",
    "                else:\n",
    "                    ms_married_af_lt_50k += 1\n",
    "\n",
    "rel_sum1 = 100 * (rel_husband_gt_50k / (rel_husband_gt_50k + rel_husband_lt_50k))\n",
    "print(f\"{rel_sum1}% of husbands earn more than 50k / year\")\n",
    "rel_sum2 = 100 * (rel_wife_gt_50k / (rel_wife_gt_50k + rel_wife_lt_50k))\n",
    "print(f\"{rel_sum2}% of wifes earn more than 50k / year\")\n",
    "ms_sum1 = 100 * (ms_married_civ_gt_50k / (ms_married_civ_gt_50k + ms_married_civ_lt_50k))\n",
    "print(f\"{ms_sum1}% of married civilians earn more than 50k / year\")\n",
    "ms_sum2 = 100 * (ms_married_af_gt_50k / (ms_married_af_gt_50k + ms_married_af_lt_50k))\n",
    "print(f\"{ms_sum2}% of married armed forces earn more than 50k / year\")\n",
    "\n",
    "print(f\"{(rel_sum1 + rel_sum2) / 2}% of the chosen relations earn more than 50k / year\")\n",
    "print(f\"{(ms_sum1 + ms_sum2) / 2}% of the chosen marital-states earn more than 50k / year\")"
   ],
   "metadata": {
    "collapsed": false,
    "pycharm": {
     "name": "#%%\n"
    }
   }
  },
  {
   "cell_type": "code",
   "execution_count": null,
   "outputs": [],
   "source": [
    "rel_unmarried_gt_50k = 0\n",
    "rel_unmarried_lt_50k = 0\n",
    "\n",
    "ms_never_married_gt_50k = 0\n",
    "ms_never_married_lt_50k = 0\n",
    "ms_sum_1 = 0\n",
    "ms_divorced_gt_50k = 0\n",
    "ms_divorced_lt_50k = 0\n",
    "ms_sum_2 = 0\n",
    "ms_widowed_gt_50k = 0\n",
    "ms_widowed_lt_50k = 0\n",
    "ms_sum_3 = 0\n",
    "\n",
    "for idx, row in census.iterrows():\n",
    "    if row['relationship'] == 'Unmarried':\n",
    "        if row['class'] == '>50K':\n",
    "            rel_unmarried_gt_50k += 1\n",
    "        else:\n",
    "            rel_unmarried_lt_50k += 1\n",
    "    elif row['material-status'] == 'Never-married':\n",
    "        if row['class'] == '>50K':\n",
    "            ms_never_married_gt_50k += 1\n",
    "        else:\n",
    "            ms_never_married_lt_50k += 1\n",
    "    elif row['material-status'] == 'Divorced':\n",
    "            if row['class'] == '>50K':\n",
    "                ms_divorced_gt_50k += 1\n",
    "            else:\n",
    "                ms_divorced_lt_50k += 1\n",
    "    elif row['material-status'] == 'Widowed':\n",
    "                if row['class'] == '>50K':\n",
    "                    ms_widowed_gt_50k += 1\n",
    "                else:\n",
    "                    ms_widowed_lt_50k += 1\n",
    "\n",
    "print(f\"{100 * (rel_unmarried_gt_50k / (rel_unmarried_gt_50k + rel_unmarried_lt_50k))}% of unmarried earn more than 50k / year\")\n",
    "ms_sum_1 = 100 * (ms_never_married_gt_50k / (ms_never_married_gt_50k + ms_never_married_lt_50k))\n",
    "print(f\"{ms_sum_1}% of never married earn more than 50k / year\")\n",
    "ms_sum_2 = 100 * (ms_divorced_gt_50k / (ms_divorced_gt_50k + ms_divorced_lt_50k))\n",
    "print(f\"{ms_sum_2}% of divorced earn more than 50k / year\")\n",
    "ms_sum_3 = 100 * (ms_widowed_gt_50k / (ms_widowed_gt_50k + ms_widowed_lt_50k))\n",
    "print(f\"{ms_sum_3}% of widowed earn more than 50k / year\")\n",
    "\n",
    "print(f\"{(ms_sum_1 + ms_sum_2 + ms_sum_3) / 3}% of the unmarried marital-states earn more than 50k / year\")\n"
   ],
   "metadata": {
    "collapsed": false,
    "pycharm": {
     "name": "#%%\n"
    }
   }
  }
 ],
 "metadata": {
  "kernelspec": {
   "display_name": "Python 3",
   "language": "python",
   "name": "python3"
  },
  "language_info": {
   "codemirror_mode": {
    "name": "ipython",
    "version": 3
   },
   "file_extension": ".py",
   "mimetype": "text/x-python",
   "name": "python",
   "nbconvert_exporter": "python",
   "pygments_lexer": "ipython3",
   "version": "3.9.1"
  }
 },
 "nbformat": 4,
 "nbformat_minor": 1
}