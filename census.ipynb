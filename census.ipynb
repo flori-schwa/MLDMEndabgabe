{
 "cells": [
  {
   "cell_type": "code",
   "execution_count": 1,
   "metadata": {
    "collapsed": true
   },
   "outputs": [],
   "source": [
    "from typing import Callable, Any\n",
    "\n",
    "import arff as ap"
   ]
  },
  {
   "cell_type": "code",
   "execution_count": 3,
   "outputs": [
    {
     "data": {
      "text/plain": "   age  workclass  fnlwgt     education  education-num      marital-status  \\\n0   25    Private  226802          11th              7       Never-married   \n1   38    Private   89814       HS-grad              9  Married-civ-spouse   \n2   28  Local-gov  336951    Assoc-acdm             12  Married-civ-spouse   \n3   44    Private  160323  Some-college             10  Married-civ-spouse   \n4   18       None  103497  Some-college             10       Never-married   \n\n          occupation relationship   race     sex  capital-gain  capital-loss  \\\n0  Machine-op-inspct    Own-child  Black    Male             0             0   \n1    Farming-fishing      Husband  White    Male             0             0   \n2    Protective-serv      Husband  White    Male             0             0   \n3  Machine-op-inspct      Husband  Black    Male          7688             0   \n4               None    Own-child  White  Female             0             0   \n\n   hours-per-week native-country  class  \n0              40  United-States  <=50K  \n1              50  United-States  <=50K  \n2              40  United-States   >50K  \n3              40  United-States   >50K  \n4              30  United-States  <=50K  ",
      "text/html": "<div>\n<style scoped>\n    .dataframe tbody tr th:only-of-type {\n        vertical-align: middle;\n    }\n\n    .dataframe tbody tr th {\n        vertical-align: top;\n    }\n\n    .dataframe thead th {\n        text-align: right;\n    }\n</style>\n<table border=\"1\" class=\"dataframe\">\n  <thead>\n    <tr style=\"text-align: right;\">\n      <th></th>\n      <th>age</th>\n      <th>workclass</th>\n      <th>fnlwgt</th>\n      <th>education</th>\n      <th>education-num</th>\n      <th>marital-status</th>\n      <th>occupation</th>\n      <th>relationship</th>\n      <th>race</th>\n      <th>sex</th>\n      <th>capital-gain</th>\n      <th>capital-loss</th>\n      <th>hours-per-week</th>\n      <th>native-country</th>\n      <th>class</th>\n    </tr>\n  </thead>\n  <tbody>\n    <tr>\n      <th>0</th>\n      <td>25</td>\n      <td>Private</td>\n      <td>226802</td>\n      <td>11th</td>\n      <td>7</td>\n      <td>Never-married</td>\n      <td>Machine-op-inspct</td>\n      <td>Own-child</td>\n      <td>Black</td>\n      <td>Male</td>\n      <td>0</td>\n      <td>0</td>\n      <td>40</td>\n      <td>United-States</td>\n      <td>&lt;=50K</td>\n    </tr>\n    <tr>\n      <th>1</th>\n      <td>38</td>\n      <td>Private</td>\n      <td>89814</td>\n      <td>HS-grad</td>\n      <td>9</td>\n      <td>Married-civ-spouse</td>\n      <td>Farming-fishing</td>\n      <td>Husband</td>\n      <td>White</td>\n      <td>Male</td>\n      <td>0</td>\n      <td>0</td>\n      <td>50</td>\n      <td>United-States</td>\n      <td>&lt;=50K</td>\n    </tr>\n    <tr>\n      <th>2</th>\n      <td>28</td>\n      <td>Local-gov</td>\n      <td>336951</td>\n      <td>Assoc-acdm</td>\n      <td>12</td>\n      <td>Married-civ-spouse</td>\n      <td>Protective-serv</td>\n      <td>Husband</td>\n      <td>White</td>\n      <td>Male</td>\n      <td>0</td>\n      <td>0</td>\n      <td>40</td>\n      <td>United-States</td>\n      <td>&gt;50K</td>\n    </tr>\n    <tr>\n      <th>3</th>\n      <td>44</td>\n      <td>Private</td>\n      <td>160323</td>\n      <td>Some-college</td>\n      <td>10</td>\n      <td>Married-civ-spouse</td>\n      <td>Machine-op-inspct</td>\n      <td>Husband</td>\n      <td>Black</td>\n      <td>Male</td>\n      <td>7688</td>\n      <td>0</td>\n      <td>40</td>\n      <td>United-States</td>\n      <td>&gt;50K</td>\n    </tr>\n    <tr>\n      <th>4</th>\n      <td>18</td>\n      <td>None</td>\n      <td>103497</td>\n      <td>Some-college</td>\n      <td>10</td>\n      <td>Never-married</td>\n      <td>None</td>\n      <td>Own-child</td>\n      <td>White</td>\n      <td>Female</td>\n      <td>0</td>\n      <td>0</td>\n      <td>30</td>\n      <td>United-States</td>\n      <td>&lt;=50K</td>\n    </tr>\n  </tbody>\n</table>\n</div>"
     },
     "execution_count": 3,
     "metadata": {},
     "output_type": "execute_result"
    }
   ],
   "source": [
    "census, _ = ap.parse_arff_file(\"adult_train.arff\")\n",
    "\n",
    "census.head()"
   ],
   "metadata": {
    "collapsed": false,
    "pycharm": {
     "name": "#%%\n"
    }
   }
  },
  {
   "cell_type": "code",
   "execution_count": 7,
   "outputs": [],
   "source": [
    "def sum_attr_pred(func: Callable[[Any], bool], attr: str) -> int:\n",
    "    return sum(1 if func(x) else 0 for x in census[attr])"
   ],
   "metadata": {
    "collapsed": false,
    "pycharm": {
     "name": "#%%\n"
    }
   }
  },
  {
   "cell_type": "code",
   "execution_count": 8,
   "outputs": [
    {
     "name": "stdout",
     "output_type": "stream",
     "text": [
      "# Of Instances with age = '?': 0\n",
      "# Of Instances with workclass = '?': 2503\n",
      "# Of Instances with fnlwgt = '?': 0\n",
      "# Of Instances with education = '?': 0\n",
      "# Of Instances with education-num = '?': 0\n",
      "# Of Instances with marital-status = '?': 0\n",
      "# Of Instances with occupation = '?': 2512\n",
      "# Of Instances with relationship = '?': 0\n",
      "# Of Instances with race = '?': 0\n",
      "# Of Instances with sex = '?': 0\n",
      "# Of Instances with capital-gain = '?': 0\n",
      "# Of Instances with capital-loss = '?': 0\n",
      "# Of Instances with hours-per-week = '?': 0\n",
      "# Of Instances with native-country = '?': 766\n",
      "# Of Instances with class = '?': 0\n"
     ]
    }
   ],
   "source": [
    "for attr in census.columns:\n",
    "    print(f\"# Of Instances with {attr} = '?': {sum_attr_pred(lambda x: x is None, attr)}\")"
   ],
   "metadata": {
    "collapsed": false,
    "pycharm": {
     "name": "#%%\n"
    }
   }
  },
  {
   "cell_type": "code",
   "execution_count": 12,
   "outputs": [
    {
     "name": "stdout",
     "output_type": "stream",
     "text": [
      "# Of Instances with capital-loss = 0: 41918 (0.9535920651531007)\n",
      "Average capital-loss: 87.05452932344511\n",
      "Median capital-loss: 0.0\n"
     ]
    }
   ],
   "source": [
    "from statistics import mean, median\n",
    "\n",
    "n_instances = len(census)\n",
    "n_instances_capital_loss_zero = sum_attr_pred(lambda x: x == 0, \"capital-loss\")\n",
    "\n",
    "print(f\"# Of Instances with capital-loss = 0: {n_instances_capital_loss_zero} ({n_instances_capital_loss_zero / n_instances})\")\n",
    "print(f\"Average capital-loss: {mean(census['capital-loss'])}\")\n",
    "print(f\"Median capital-loss: {median(census['capital-loss'])}\")"
   ],
   "metadata": {
    "collapsed": false,
    "pycharm": {
     "name": "#%%\n"
    }
   }
  },
  {
   "cell_type": "code",
   "execution_count": 13,
   "outputs": [
    {
     "name": "stdout",
     "output_type": "stream",
     "text": [
      "# Of Instances with capital-gain > 5000: 2232 (Total perc: 0.05077574047954866)\n",
      "# Of Instances with capital-gain > 5000 and class = >50K: 2010 (0.9005376344086021 of instances with capital-gain > 5000)\n"
     ]
    }
   ],
   "source": [
    "n_instances_capital_gain_gt_5k = 0\n",
    "n_instances_capital_gain_gt_5k_target = 0\n",
    "\n",
    "for _, row in census.iterrows():\n",
    "    if row['capital-gain'] > 5000:\n",
    "        n_instances_capital_gain_gt_5k += 1\n",
    "        if row['class'] == '>50K':\n",
    "            n_instances_capital_gain_gt_5k_target += 1\n",
    "\n",
    "print(f\"# Of Instances with capital-gain > 5000: {n_instances_capital_gain_gt_5k} (Total perc: {n_instances_capital_gain_gt_5k / n_instances})\")\n",
    "print(f\"# Of Instances with capital-gain > 5000 and class = >50K: {n_instances_capital_gain_gt_5k_target} ({n_instances_capital_gain_gt_5k_target / n_instances_capital_gain_gt_5k} of instances with capital-gain > 5000)\")"
   ],
   "metadata": {
    "collapsed": false,
    "pycharm": {
     "name": "#%%\n"
    }
   }
  },
  {
   "cell_type": "code",
   "execution_count": 5,
   "outputs": [
    {
     "name": "stdout",
     "output_type": "stream",
     "text": [
      "3236 of total 43958 rows contain atleast one unknown (?) Attribute: 7.361572410027755%\n"
     ]
    }
   ],
   "source": [
    "cnt = 0\n",
    "total_rows = 0\n",
    "\n",
    "for idx, row in census.iterrows():\n",
    "    if any(x is None for x in row):\n",
    "        cnt += 1\n",
    "    total_rows += 1\n",
    "\n",
    "print(f\"{cnt} of total {total_rows} rows contain atleast one unknown (?) Attribute: {100 * (cnt / total_rows)}%\")"
   ],
   "metadata": {
    "collapsed": false,
    "pycharm": {
     "name": "#%%\n"
    }
   }
  },
  {
   "cell_type": "code",
   "execution_count": 12,
   "outputs": [],
   "source": [
    "def print_csv_line(file, data):\n",
    "    file.write(\", \".join(map(lambda x: '?' if x is None else str(x), data)))\n",
    "    file.write('\\n')\n",
    "\n",
    "with open(\"processed.csv\", \"w+\") as f:\n",
    "    for idx, row in census.iterrows():\n",
    "        print_csv_line(f, [\n",
    "            row['age'],\n",
    "            row['workclass'],\n",
    "            row['education-num'],\n",
    "            1 if row['marital-status'] in ['Married-civ-spouse', 'Married-spouse-absent', 'Married-AF-spouse'] else 0,\n",
    "            row['occupation'],\n",
    "            row['relationship'],\n",
    "            row['race'],\n",
    "            row['sex'],\n",
    "            row['capital-gain'],\n",
    "            row['capital-loss'],\n",
    "            row['hours-per-week'],\n",
    "            1 if row['native-country'] == 'United-States' else 0,\n",
    "            row['class']\n",
    "        ])"
   ],
   "metadata": {
    "collapsed": false,
    "pycharm": {
     "name": "#%%\n"
    }
   }
  },
  {
   "cell_type": "code",
   "execution_count": 14,
   "outputs": [
    {
     "name": "stdout",
     "output_type": "stream",
     "text": [
      "24.413597446679162% of US. Citizens earn more than 50k / year\n",
      "19.754464285714285% of foreign Citizens earn more than 50k / year\n"
     ]
    }
   ],
   "source": [
    "usa_gt_50k = 0\n",
    "usa_lt_50k = 0\n",
    "for_gt_50k = 0\n",
    "for_lt_50k = 0\n",
    "\n",
    "for idx, row in census.iterrows():\n",
    "    if row['native-country'] == 'United-States':\n",
    "        if row['class'] == '>50K':\n",
    "            usa_gt_50k += 1\n",
    "        else:\n",
    "            usa_lt_50k += 1\n",
    "    else:\n",
    "        if row['class'] == '>50K':\n",
    "            for_gt_50k += 1\n",
    "        else:\n",
    "            for_lt_50k += 1\n",
    "\n",
    "print(f\"{100 * (usa_gt_50k / (usa_gt_50k + usa_lt_50k))}% of US. Citizens earn more than 50k / year\")\n",
    "print(f\"{100 * (for_gt_50k / (for_gt_50k + for_lt_50k))}% of foreign Citizens earn more than 50k / year\")"
   ],
   "metadata": {
    "collapsed": false,
    "pycharm": {
     "name": "#%%\n"
    }
   }
  },
  {
   "cell_type": "code",
   "execution_count": null,
   "outputs": [],
   "source": [
    "race_data = {}\n",
    "white = 0\n",
    "total = 0\n",
    "\n",
    "for _, row in census.iterrows():\n",
    "    race = row['race']\n",
    "\n",
    "    if race == 'White':\n",
    "        white += row['fnlwgt']\n",
    "    total += row['fnlwgt']\n",
    "\n",
    "    if not race in race_data:\n",
    "        race_data[race] = {\n",
    "            '>50K': 0,\n",
    "            '<=50K': 0,\n",
    "            'total': 0\n",
    "        }\n",
    "\n",
    "    race_data[race][row['class']] += 1\n",
    "    race_data[race]['total'] += 1\n",
    "\n",
    "print(f\"{(white / total) * 100}% white\")\n",
    "\n",
    "for race in race_data:\n",
    "    perc = race_data[race]['>50K'] / race_data[race]['total']\n",
    "\n",
    "    print(f\"{race}: {race_data[race]['>50K']} out of {race_data[race]['total']} earn more than 50K / year ({perc})\")"
   ],
   "metadata": {
    "collapsed": false,
    "pycharm": {
     "name": "#%%\n"
    }
   }
  },
  {
   "cell_type": "code",
   "execution_count": null,
   "outputs": [],
   "source": [
    "from preprocess import median\n",
    "\n",
    "lt_50k_ages = []\n",
    "gt_50k_ages = []\n",
    "\n",
    "for _, row in census.iterrows():\n",
    "    if row['class'] == '>50K':\n",
    "        gt_50k_ages.append(row['age'])\n",
    "    else:\n",
    "        lt_50k_ages.append(row['age'])\n",
    "\n",
    "lt_50k_ages = sorted(lt_50k_ages)\n",
    "gt_50k_ages = sorted(gt_50k_ages)\n",
    "\n",
    "print(f\"Median Age of <=50K: {median(lt_50k_ages, lambda x: x)}\")\n",
    "print(f\"Median Age of >50K: {median(gt_50k_ages, lambda x: x)}\")"
   ],
   "metadata": {
    "collapsed": false,
    "pycharm": {
     "name": "#%%\n"
    }
   }
  },
  {
   "cell_type": "code",
   "execution_count": 6,
   "outputs": [
    {
     "name": "stdout",
     "output_type": "stream",
     "text": [
      "85.54984303198508% white\n",
      "Black: 510 out of 4198 earn more than 50K / year (0.12148642210576464)\n",
      "White: 9553 out of 37606 earn more than 50K / year (0.2540286124554592)\n",
      "Asian-Pac-Islander: 367 out of 1370 earn more than 50K / year (0.2678832116788321)\n",
      "Other: 44 out of 364 earn more than 50K / year (0.12087912087912088)\n",
      "Amer-Indian-Eskimo: 49 out of 420 earn more than 50K / year (0.11666666666666667)\n"
     ]
    }
   ],
   "source": [
    "from preprocess import median\n",
    "\n",
    "lt_50k_ages = []\n",
    "gt_50k_ages = []\n",
    "\n",
    "for _, row in census.iterrows():\n",
    "    if row['class'] == '>50K':\n",
    "        gt_50k_ages.append(row['age'])\n",
    "    else:\n",
    "        lt_50k_ages.append(row['age'])\n",
    "\n",
    "lt_50k_ages = sorted(lt_50k_ages)\n",
    "gt_50k_ages = sorted(gt_50k_ages)\n",
    "\n",
    "print(f\"Median Age of <=50K: {median(lt_50k_ages, lambda x: x)}\")\n",
    "print(f\"Median Age of >50K: {median(gt_50k_ages, lambda x: x)}\")"
   ],
   "metadata": {
    "collapsed": false,
    "pycharm": {
     "name": "#%%\n"
    }
   }
  },
  {
   "cell_type": "code",
   "execution_count": 8,
   "outputs": [
    {
     "name": "stdout",
     "output_type": "stream",
     "text": [
      "Median Age of <=50K: 34.0\n",
      "Median Age of >50K: 44.0\n"
     ]
    }
   ],
   "source": [
    "from preprocess import median\n",
    "\n",
    "lt_50k_ages = []\n",
    "gt_50k_ages = []\n",
    "\n",
    "for _, row in census.iterrows():\n",
    "    if row['class'] == '>50K':\n",
    "        gt_50k_ages.append(row['age'])\n",
    "    else:\n",
    "        lt_50k_ages.append(row['age'])\n",
    "\n",
    "lt_50k_ages = sorted(lt_50k_ages)\n",
    "gt_50k_ages = sorted(gt_50k_ages)\n",
    "\n",
    "print(f\"Median Age of <=50K: {median(lt_50k_ages, lambda x: x)}\")\n",
    "print(f\"Median Age of >50K: {median(gt_50k_ages, lambda x: x)}\")"
   ],
   "metadata": {
    "collapsed": false,
    "pycharm": {
     "name": "#%%\n"
    }
   }
  }
 ],
 "metadata": {
  "kernelspec": {
   "display_name": "Python 3",
   "language": "python",
   "name": "python3"
  },
  "language_info": {
   "codemirror_mode": {
    "name": "ipython",
    "version": 2
   },
   "file_extension": ".py",
   "mimetype": "text/x-python",
   "name": "python",
   "nbconvert_exporter": "python",
   "pygments_lexer": "ipython2",
   "version": "2.7.6"
  }
 },
 "nbformat": 4,
 "nbformat_minor": 0
}