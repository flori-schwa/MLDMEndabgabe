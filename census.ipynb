{
 "cells": [
  {
   "cell_type": "code",
   "execution_count": 10,
   "metadata": {
    "collapsed": true
   },
   "outputs": [],
   "source": [
    "from typing import Callable, Any\n",
    "\n",
    "import arff_parser as ap"
   ]
  },
  {
   "cell_type": "code",
   "execution_count": 2,
   "outputs": [
    {
     "data": {
      "text/plain": "    age  workclass    fnlwgt     education  education-num      marital-status  \\\n0  25.0    Private  226802.0          11th            7.0       Never-married   \n1  38.0    Private   89814.0       HS-grad            9.0  Married-civ-spouse   \n2  28.0  Local-gov  336951.0    Assoc-acdm           12.0  Married-civ-spouse   \n3  44.0    Private  160323.0  Some-college           10.0  Married-civ-spouse   \n4  18.0       None  103497.0  Some-college           10.0       Never-married   \n\n          occupation relationship   race     sex  capital-gain  capital-loss  \\\n0  Machine-op-inspct    Own-child  Black    Male           0.0           0.0   \n1    Farming-fishing      Husband  White    Male           0.0           0.0   \n2    Protective-serv      Husband  White    Male           0.0           0.0   \n3  Machine-op-inspct      Husband  Black    Male        7688.0           0.0   \n4               None    Own-child  White  Female           0.0           0.0   \n\n   hours-per-week native-country  class  \n0            40.0  United-States  <=50K  \n1            50.0  United-States  <=50K  \n2            40.0  United-States   >50K  \n3            40.0  United-States   >50K  \n4            30.0  United-States  <=50K  ",
      "text/html": "<div>\n<style scoped>\n    .dataframe tbody tr th:only-of-type {\n        vertical-align: middle;\n    }\n\n    .dataframe tbody tr th {\n        vertical-align: top;\n    }\n\n    .dataframe thead th {\n        text-align: right;\n    }\n</style>\n<table border=\"1\" class=\"dataframe\">\n  <thead>\n    <tr style=\"text-align: right;\">\n      <th></th>\n      <th>age</th>\n      <th>workclass</th>\n      <th>fnlwgt</th>\n      <th>education</th>\n      <th>education-num</th>\n      <th>marital-status</th>\n      <th>occupation</th>\n      <th>relationship</th>\n      <th>race</th>\n      <th>sex</th>\n      <th>capital-gain</th>\n      <th>capital-loss</th>\n      <th>hours-per-week</th>\n      <th>native-country</th>\n      <th>class</th>\n    </tr>\n  </thead>\n  <tbody>\n    <tr>\n      <th>0</th>\n      <td>25.0</td>\n      <td>Private</td>\n      <td>226802.0</td>\n      <td>11th</td>\n      <td>7.0</td>\n      <td>Never-married</td>\n      <td>Machine-op-inspct</td>\n      <td>Own-child</td>\n      <td>Black</td>\n      <td>Male</td>\n      <td>0.0</td>\n      <td>0.0</td>\n      <td>40.0</td>\n      <td>United-States</td>\n      <td>&lt;=50K</td>\n    </tr>\n    <tr>\n      <th>1</th>\n      <td>38.0</td>\n      <td>Private</td>\n      <td>89814.0</td>\n      <td>HS-grad</td>\n      <td>9.0</td>\n      <td>Married-civ-spouse</td>\n      <td>Farming-fishing</td>\n      <td>Husband</td>\n      <td>White</td>\n      <td>Male</td>\n      <td>0.0</td>\n      <td>0.0</td>\n      <td>50.0</td>\n      <td>United-States</td>\n      <td>&lt;=50K</td>\n    </tr>\n    <tr>\n      <th>2</th>\n      <td>28.0</td>\n      <td>Local-gov</td>\n      <td>336951.0</td>\n      <td>Assoc-acdm</td>\n      <td>12.0</td>\n      <td>Married-civ-spouse</td>\n      <td>Protective-serv</td>\n      <td>Husband</td>\n      <td>White</td>\n      <td>Male</td>\n      <td>0.0</td>\n      <td>0.0</td>\n      <td>40.0</td>\n      <td>United-States</td>\n      <td>&gt;50K</td>\n    </tr>\n    <tr>\n      <th>3</th>\n      <td>44.0</td>\n      <td>Private</td>\n      <td>160323.0</td>\n      <td>Some-college</td>\n      <td>10.0</td>\n      <td>Married-civ-spouse</td>\n      <td>Machine-op-inspct</td>\n      <td>Husband</td>\n      <td>Black</td>\n      <td>Male</td>\n      <td>7688.0</td>\n      <td>0.0</td>\n      <td>40.0</td>\n      <td>United-States</td>\n      <td>&gt;50K</td>\n    </tr>\n    <tr>\n      <th>4</th>\n      <td>18.0</td>\n      <td>None</td>\n      <td>103497.0</td>\n      <td>Some-college</td>\n      <td>10.0</td>\n      <td>Never-married</td>\n      <td>None</td>\n      <td>Own-child</td>\n      <td>White</td>\n      <td>Female</td>\n      <td>0.0</td>\n      <td>0.0</td>\n      <td>30.0</td>\n      <td>United-States</td>\n      <td>&lt;=50K</td>\n    </tr>\n  </tbody>\n</table>\n</div>"
     },
     "execution_count": 2,
     "metadata": {},
     "output_type": "execute_result"
    }
   ],
   "source": [
    "census = ap.parse_arff_file(\"adult_train.arff\")\n",
    "\n",
    "census.head()"
   ],
   "metadata": {
    "collapsed": false,
    "pycharm": {
     "name": "#%%\n"
    }
   }
  },
  {
   "cell_type": "code",
   "execution_count": 11,
   "outputs": [],
   "source": [
    "def sum_attr_pred(func: Callable[[Any], bool], attr: str) -> int:\n",
    "    return sum(func(x) for x in census[attr])"
   ],
   "metadata": {
    "collapsed": false,
    "pycharm": {
     "name": "#%%\n"
    }
   }
  },
  {
   "cell_type": "code",
   "execution_count": 19,
   "outputs": [
    {
     "name": "stdout",
     "output_type": "stream",
     "text": [
      "# Of Instances with age = '?': 0\n",
      "# Of Instances with workclass = '?': 2503\n",
      "# Of Instances with fnlwgt = '?': 0\n",
      "# Of Instances with education = '?': 0\n",
      "# Of Instances with education-num = '?': 0\n",
      "# Of Instances with marital-status = '?': 0\n",
      "# Of Instances with occupation = '?': 2512\n",
      "# Of Instances with relationship = '?': 0\n",
      "# Of Instances with race = '?': 0\n",
      "# Of Instances with sex = '?': 0\n",
      "# Of Instances with capital-gain = '?': 0\n",
      "# Of Instances with capital-loss = '?': 0\n",
      "# Of Instances with hours-per-week = '?': 0\n",
      "# Of Instances with native-country = '?': 766\n",
      "# Of Instances with class = '?': 0\n"
     ]
    }
   ],
   "source": [
    "for attr in census.columns:\n",
    "    print(f\"# Of Instances with {attr} = '?': {sum_attr_pred(lambda x: x is None, attr)}\")"
   ],
   "metadata": {
    "collapsed": false,
    "pycharm": {
     "name": "#%%\n"
    }
   }
  },
  {
   "cell_type": "code",
   "execution_count": 26,
   "outputs": [
    {
     "name": "stdout",
     "output_type": "stream",
     "text": [
      "3236 of total 43958 rows contain atleast one unknown (?) Attribute: 7.361572410027755%\n"
     ]
    }
   ],
   "source": [
    "cnt = 0\n",
    "total_rows = 0\n",
    "\n",
    "for idx, row in census.iterrows():\n",
    "    if any(x is None for x in row):\n",
    "        cnt += 1\n",
    "    total_rows += 1\n",
    "\n",
    "print(f\"{cnt} of total {total_rows} rows contain atleast one unknown (?) Attribute: {100 * (cnt / total_rows)}%\")"
   ],
   "metadata": {
    "collapsed": false,
    "pycharm": {
     "name": "#%%\n"
    }
   }
  }
 ],
 "metadata": {
  "kernelspec": {
   "display_name": "Python 3",
   "language": "python",
   "name": "python3"
  },
  "language_info": {
   "codemirror_mode": {
    "name": "ipython",
    "version": 2
   },
   "file_extension": ".py",
   "mimetype": "text/x-python",
   "name": "python",
   "nbconvert_exporter": "python",
   "pygments_lexer": "ipython2",
   "version": "2.7.6"
  }
 },
 "nbformat": 4,
 "nbformat_minor": 0
}